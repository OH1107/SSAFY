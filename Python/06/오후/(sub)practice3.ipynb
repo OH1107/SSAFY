{
 "cells": [
  {
   "cell_type": "markdown",
   "metadata": {},
   "source": [
    "# Practice 3\n",
    "\n",
    "> 자료 구조 "
   ]
  },
  {
   "cell_type": "markdown",
   "metadata": {},
   "source": [
    "## 썩은 과일 찾기\n",
    "\n",
    "> 과수원에 농부 한명이 썩은 과일이 몇개 들어있는 과일 봉지를 가지고 있다. (과일 봉지는 리스트를 의미한다.)\n",
    ">\n",
    "> 썩은 과일 조각들을 모두 신선한 것으로 교체하는 함수 `change_rotten_fruit()`를 작성하시오. \n",
    ">\n",
    "> 예를 들어,\n",
    "- `['apple', 'rottenBanana', 'apple']` 이라는 리스트가 주어진 경우, 대체된 리스트는 `['apple', 'banana', 'apple']` 이어야 한다. \n",
    ">\n",
    ">\n",
    "> **유의**\n",
    "- 만약 리스트가 null/nil/None이거나 비어 있는 경우 빈 리스트를 반환한다.\n",
    "- 반환된 리스트의 요소는 모두 소문자여야 한다.\n",
    "\n",
    "---\n",
    "\n",
    "예시)\n",
    "\n",
    "```python\n",
    "change_rotten_fruit(['apple', 'rottenBanana', 'apple']) \n",
    "#=> ['apple', 'banana', 'apple']\n",
    "\n",
    "change_rotten_fruit(['rottenapple', 'rottenBanana', 'apple', 'rottenGrape']) \n",
    "#=> ['apple', 'banana', 'apple', 'grape']\n",
    "```"
   ]
  },
  {
   "cell_type": "code",
   "execution_count": 28,
   "metadata": {},
   "outputs": [],
   "source": [
    "def change_rotten_fruit(fruit_bag):\n",
    "    null_list = ['null', 'nill', 'None']\n",
    "    replace_string = 'rotten'\n",
    "    result = []\n",
    "    \n",
    "    if len(fruit_bag) == 0:\n",
    "        return []\n",
    "    \n",
    "    else:\n",
    "        for item in fruit_bag:\n",
    "            if item in null_list:\n",
    "                return []\n",
    "            \n",
    "            if replace_string not in item:\n",
    "                result.append(item.lower())\n",
    "            elif replace_string in item:\n",
    "                result.append(item.replace(replace_string, '').lower())\n",
    "    \n",
    "    return result\n",
    "\n",
    "# 모두 소문자 안바꿈 -> 다시 수정함 ㅠ"
   ]
  },
  {
   "cell_type": "code",
   "execution_count": 29,
   "metadata": {},
   "outputs": [],
   "source": [
    "# 강사님 코드\n",
    "\n",
    "def change_rotten_fruit(fruit_bag):\n",
    "    result = []\n",
    "    \n",
    "    if not fruit_bag:\n",
    "        return result\n",
    "    \n",
    "    for fruit in fruit_bag:\n",
    "        if 'rotten' in fruit:\n",
    "            new_fruit = fruit.replace('rotten', '').lower()\n",
    "            result.append(new_fruit)\n",
    "        else:\n",
    "            result.append(fruit)\n",
    "    return result"
   ]
  },
  {
   "cell_type": "code",
   "execution_count": 30,
   "metadata": {},
   "outputs": [
    {
     "name": "stdout",
     "output_type": "stream",
     "text": [
      "['apple', 'banana', 'apple']\n",
      "['apple', 'banana', 'apple', 'grape']\n",
      "[]\n"
     ]
    }
   ],
   "source": [
    "# 해당 코드를 통해 올바른 결과가 나오는지 확인하시오.\n",
    "print(change_rotten_fruit(['apple', 'rottenBanana', 'apple'] ))\n",
    "print(change_rotten_fruit(['rottenapple', 'rottenBanana', 'apple', 'rottenGrape']))\n",
    "print(change_rotten_fruit([]))"
   ]
  },
  {
   "cell_type": "markdown",
   "metadata": {},
   "source": [
    "## 중복되지 않은 숫자의 합\n",
    "\n",
    "> 같은 숫자가 한개 있거나 두개가 들어있는 리스트가 주어진다. 이러한 리스트에서 숫자가 한개만 있는 요소들의 합을 구하는 함수 `sum_of_repeat_number()`를 작성하시오.\n",
    ">\n",
    "> 예를 들어, `[4, 5, 7, 5, 4, 8]`는 7과 8이 한번만 나오기 때문에 두개를 더한 15가 결과값으로 도출된다.\n",
    "\n",
    "---\n",
    "\n",
    "예시)\n",
    "\n",
    "```python\n",
    "sum_of_repeat_number([4, 4, 7, 8, 10]) # => 25\n",
    "```\n"
   ]
  },
  {
   "cell_type": "code",
   "execution_count": 20,
   "metadata": {},
   "outputs": [],
   "source": [
    "def sum_of_repeat_number(numbers):\n",
    "    count_dict = {key:0 for key in set(numbers)}\n",
    "    result = 0\n",
    "    \n",
    "    for num in numbers:\n",
    "        for count in count_dict:\n",
    "            if num == count:\n",
    "                count_dict[count] += 1\n",
    "    \n",
    "    for key, value in count_dict.items():\n",
    "        if value < 2:\n",
    "            result += key\n",
    "            \n",
    "    return result"
   ]
  },
  {
   "cell_type": "code",
   "execution_count": 31,
   "metadata": {},
   "outputs": [],
   "source": [
    "# 강사님 코드\n",
    "\n",
    "def sum_of_repeat_number(numbers):\n",
    "    once = []\n",
    "    multiple = []\n",
    "    \n",
    "    for number in numbers:\n",
    "        # 숫자가 한 번 호출된 리스트에 있을 경우\n",
    "        if number in once:\n",
    "            multiple.append(number)\n",
    "            once.remove(number)\n",
    "        # 숫자가 한 번도 호출되지 않았을 경우    \n",
    "        elif number not in multiple:\n",
    "            once.append(number)\n",
    "            \n",
    "    return sum(once)"
   ]
  },
  {
   "cell_type": "code",
   "execution_count": 33,
   "metadata": {},
   "outputs": [],
   "source": [
    "# 강사님 코드 2\n",
    "\n",
    "def sum_of_repeat_number(numbers):\n",
    "    result = 0\n",
    "    \n",
    "    for number in numbers:\n",
    "        if numbers.count(number) == 1:\n",
    "            result += number\n",
    "    \n",
    "    return result"
   ]
  },
  {
   "cell_type": "code",
   "execution_count": 34,
   "metadata": {},
   "outputs": [
    {
     "name": "stdout",
     "output_type": "stream",
     "text": [
      "25\n"
     ]
    }
   ],
   "source": [
    "# 해당 코드를 통해 올바른 결과가 나오는지 확인하시오.\n",
    "print(sum_of_repeat_number([4, 4, 7, 8, 10]))"
   ]
  }
 ],
 "metadata": {
  "kernelspec": {
   "display_name": "Python 3",
   "language": "python",
   "name": "python3"
  },
  "language_info": {
   "codemirror_mode": {
    "name": "ipython",
    "version": 3
   },
   "file_extension": ".py",
   "mimetype": "text/x-python",
   "name": "python",
   "nbconvert_exporter": "python",
   "pygments_lexer": "ipython3",
   "version": "3.8.7"
  },
  "toc": {
   "base_numbering": 1,
   "nav_menu": {},
   "number_sections": true,
   "sideBar": true,
   "skip_h1_title": false,
   "title_cell": "Table of Contents",
   "title_sidebar": "Contents",
   "toc_cell": false,
   "toc_position": {},
   "toc_section_display": true,
   "toc_window_display": false
  }
 },
 "nbformat": 4,
 "nbformat_minor": 4
}
