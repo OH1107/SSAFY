{
 "cells": [
  {
   "cell_type": "markdown",
   "metadata": {},
   "source": [
    "# Practice (선택)\n",
    "\n",
    "> OOP(Object-Oriented-Programming)"
   ]
  },
  {
   "cell_type": "markdown",
   "metadata": {},
   "source": [
    "## Pair Matching Program\n",
    "\n",
    "> 페어 프로그래밍은 하나의 컴퓨터에서 두 사람의 프로그래머가 작업하는 방식을 의미한다. \n",
    ">\n",
    "> SSAFY 1학기 정규 과정에서 프로젝트는 페어 프로그래밍을 통해 진행한다. 진정한 프로그래머가 되기 위해 김싸피는 페어를 매칭하기 위한 프로그램을 작성하려고 한다. 클래스를 활용해 작성하며 포함되는 메서드는 아래와 같다.\n",
    ">\n",
    "\n",
    "**구성 요소**\n",
    "1. 초기화 메서드는 인자로 학생 이름으로 구성된 리스트를 받아서 인스턴스 변수에 할당한다.\n",
    "2. `pick(n)` 메서드는 학생들 명단에서 인자 n명 만큼 랜덤으로 추출하여 return한다.\n",
    "3. `match_pair()` 메서드는 학생들 명단을 랜덤으로 2명씩 매칭해 준다. 이때, 학생들 명단의 수가 홀수명이면 단 한팀만 3명으로 구성한다.\n",
    "\n",
    "---\n",
    "\n",
    "예시)\n",
    "\n",
    "```python\n",
    "ch = ClassHelper(['김싸피', '이싸피', '조싸피', '박싸피', '정싸피'])\n",
    "\n",
    "ch.pick(1) #=> ['이싸피']\n",
    "ch.pick(1) #=> ['김싸피']\n",
    "ch.pick(2) #=> ['김싸피', '박싸피']\n",
    "ch.pick(3) #=> ['김싸피', '조싸피', '정싸피']\n",
    "ch.pick(4) #=> ['박싸피', '이싸피', '김싸피', '정싸피']\n",
    "\n",
    "ch.match_pair() #=> [['조싸피', '이싸피'], ['김싸피', '정싸피', '박싸피']]\n",
    "```"
   ]
  },
  {
   "cell_type": "code",
   "execution_count": 78,
   "metadata": {},
   "outputs": [],
   "source": [
    "from random import sample, shuffle\n",
    "\n",
    "class ClassHelper:\n",
    "    \n",
    "    def __init__(self, students):\n",
    "        self.students = students\n",
    "    \n",
    "    def pick(self, count):\n",
    "        return sample(self.students, k=count)\n",
    "    \n",
    "    def match_pair(self):\n",
    "        match_list = []\n",
    "        temp_list = self.students[:]\n",
    "        \n",
    "        while True:\n",
    "            pair_list = sample(temp_list, k=2) # 학생 명단에서 랜덤 짝궁\n",
    "            [temp_list.remove(j) for j in pair_list]  # 짝궁 생긴애들은 제외\n",
    "            match_list.append(pair_list)  # 짝궁 명단 추가\n",
    "                \n",
    "            # 남은 학생 없다면 break\n",
    "            if len(temp_list) == 0:\n",
    "                break\n",
    "            # 남은 학생이 3명이면\n",
    "            elif len(temp_list) == 3:\n",
    "                # 한 조로 묶고 break\n",
    "                match_list.append(temp_list)\n",
    "                break\n",
    "                \n",
    "        # 싸피들좀 치우고 성으로 비교\n",
    "        # match_list = [[j.replace('싸피','') for j in i] for i in match_list]\n",
    "        return match_list"
   ]
  },
  {
   "cell_type": "code",
   "execution_count": null,
   "metadata": {},
   "outputs": [],
   "source": [
    "# 강사님 메서드\n",
    "\n",
    "def match_pair(self):\n",
    "    result = []\n",
    "    student_list = self.student_list[:]\n",
    "    random.shuffle(student_list)\n",
    "    \n",
    "    while len(student_list) > 3:\n",
    "        result.append(student_list[:2])\n",
    "        student_list = student_list[2:]\n",
    "        \n",
    "    result.append(student_list)\n",
    "    \n",
    "    return result"
   ]
  },
  {
   "cell_type": "code",
   "execution_count": 79,
   "metadata": {},
   "outputs": [],
   "source": [
    "# 해당 코드를 통해 올바른 결과가 나오는지 확인하시오.\n",
    "ch_odd = ClassHelper(['김싸피', '이싸피', '조싸피', '박싸피', \n",
    "                      '정싸피', '오싸피', '송싸피', '원싸피', '배싸피',])\n",
    "\n",
    "ch_even = ClassHelper(['김싸피', '이싸피', '조싸피', '박싸피', \n",
    "                       '정싸피', '오싸피', '송싸피', '원싸피',])\n",
    "\n",
    "ch_test = ClassHelper(list(range(0, 13)))"
   ]
  },
  {
   "cell_type": "code",
   "execution_count": 80,
   "metadata": {},
   "outputs": [
    {
     "data": {
      "text/plain": [
       "['배싸피']"
      ]
     },
     "execution_count": 80,
     "metadata": {},
     "output_type": "execute_result"
    }
   ],
   "source": [
    "ch_odd.pick(1)"
   ]
  },
  {
   "cell_type": "code",
   "execution_count": 81,
   "metadata": {},
   "outputs": [
    {
     "data": {
      "text/plain": [
       "['김싸피', '원싸피']"
      ]
     },
     "execution_count": 81,
     "metadata": {},
     "output_type": "execute_result"
    }
   ],
   "source": [
    "ch_odd.pick(2)"
   ]
  },
  {
   "cell_type": "code",
   "execution_count": 82,
   "metadata": {},
   "outputs": [
    {
     "data": {
      "text/plain": [
       "['정싸피', '원싸피', '오싸피']"
      ]
     },
     "execution_count": 82,
     "metadata": {},
     "output_type": "execute_result"
    }
   ],
   "source": [
    "ch_odd.pick(3)"
   ]
  },
  {
   "cell_type": "code",
   "execution_count": 83,
   "metadata": {},
   "outputs": [
    {
     "data": {
      "text/plain": [
       "['김싸피', '송싸피', '정싸피', '오싸피']"
      ]
     },
     "execution_count": 83,
     "metadata": {},
     "output_type": "execute_result"
    }
   ],
   "source": [
    "ch_odd.pick(4)"
   ]
  },
  {
   "cell_type": "code",
   "execution_count": 84,
   "metadata": {},
   "outputs": [
    {
     "data": {
      "text/plain": [
       "[['송싸피', '김싸피'], ['이싸피', '조싸피'], ['오싸피', '배싸피'], ['박싸피', '정싸피', '원싸피']]"
      ]
     },
     "execution_count": 84,
     "metadata": {},
     "output_type": "execute_result"
    }
   ],
   "source": [
    "ch_odd.match_pair()"
   ]
  },
  {
   "cell_type": "code",
   "execution_count": 85,
   "metadata": {},
   "outputs": [
    {
     "data": {
      "text/plain": [
       "[['정싸피', '이싸피'], ['김싸피', '원싸피'], ['오싸피', '박싸피'], ['송싸피', '조싸피']]"
      ]
     },
     "execution_count": 85,
     "metadata": {},
     "output_type": "execute_result"
    }
   ],
   "source": [
    "ch_even.match_pair()"
   ]
  },
  {
   "cell_type": "code",
   "execution_count": 86,
   "metadata": {},
   "outputs": [
    {
     "data": {
      "text/plain": [
       "[[6, 11], [9, 10], [3, 0], [8, 2], [7, 4], [1, 5, 12]]"
      ]
     },
     "execution_count": 86,
     "metadata": {},
     "output_type": "execute_result"
    }
   ],
   "source": [
    "ch_test.match_pair()"
   ]
  }
 ],
 "metadata": {
  "kernelspec": {
   "display_name": "Python 3",
   "language": "python",
   "name": "python3"
  },
  "language_info": {
   "codemirror_mode": {
    "name": "ipython",
    "version": 3
   },
   "file_extension": ".py",
   "mimetype": "text/x-python",
   "name": "python",
   "nbconvert_exporter": "python",
   "pygments_lexer": "ipython3",
   "version": "3.8.7"
  },
  "toc": {
   "base_numbering": 1,
   "nav_menu": {},
   "number_sections": true,
   "sideBar": true,
   "skip_h1_title": false,
   "title_cell": "Table of Contents",
   "title_sidebar": "Contents",
   "toc_cell": false,
   "toc_position": {},
   "toc_section_display": true,
   "toc_window_display": false
  }
 },
 "nbformat": 4,
 "nbformat_minor": 4
}
